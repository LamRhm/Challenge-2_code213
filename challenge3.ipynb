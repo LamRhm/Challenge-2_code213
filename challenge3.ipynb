{
  "nbformat": 4,
  "nbformat_minor": 0,
  "metadata": {
    "colab": {
      "provenance": [],
      "gpuType": "T4",
      "include_colab_link": true
    },
    "kernelspec": {
      "name": "python3",
      "display_name": "Python 3"
    },
    "language_info": {
      "name": "python"
    },
    "accelerator": "GPU"
  },
  "cells": [
    {
      "cell_type": "markdown",
      "metadata": {
        "id": "view-in-github",
        "colab_type": "text"
      },
      "source": [
        "<a href=\"https://colab.research.google.com/github/LamRhm/Challenge-2_code213/blob/main/challenge3.ipynb\" target=\"_parent\"><img src=\"https://colab.research.google.com/assets/colab-badge.svg\" alt=\"Open In Colab\"/></a>"
      ]
    },
    {
      "cell_type": "code",
      "execution_count": 1,
      "metadata": {
        "id": "Oxcm8Pyv2r8h",
        "outputId": "49957e87-84d0-450f-a825-d40f0dbfa9c2",
        "colab": {
          "base_uri": "https://localhost:8080/"
        }
      },
      "outputs": [
        {
          "output_type": "stream",
          "name": "stdout",
          "text": [
            "['2023-11-01,15,5,0.2\\n', '2023-11-02,17,7,1.5\\n', '2023-11-03,12,3,0\\n', '2023-11-04,18,6,0.8\\n', '2023-11-05,14,4,3.2\\n', '2023-11-06,16,8,0\\n', '2023-11-07,13,2,0.5\\n', '2023-11-08,19,9,2.1\\n', '2023-1 1-09,1 1,1,0.3\\n', '2023-11-10,17,6,1.2']\n"
          ]
        }
      ],
      "source": [
        "with open('weather_data.txt', 'r') as file:\n",
        "        lines = file.readlines()\n",
        "        print(lines)"
      ]
    },
    {
      "cell_type": "code",
      "source": [],
      "metadata": {
        "id": "DrddJaI37ZFr"
      },
      "execution_count": null,
      "outputs": []
    }
  ]
}